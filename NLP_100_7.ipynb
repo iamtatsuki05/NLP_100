{
 "cells": [
  {
   "cell_type": "markdown",
   "metadata": {
    "id": "WhHjR3cWDYRU"
   },
   "source": [
    "# 単語ベクトル\n",
    "## 単語の意味を実ベクトルで表現する単語ベクトル（単語埋め込み）に関して，以下の処理を行うプログラムを作成せよ．\n",
    "#### https://nlp100.github.io/ja/ch07.html"
   ]
  },
  {
   "cell_type": "markdown",
   "metadata": {
    "id": "9wkD8Hm_lv-I"
   },
   "source": [
    "[![Open In Colab](https://colab.research.google.com/assets/colab-badge.svg)](https://colab.research.google.com/github/iamtatsuki05/NLP_100/blob/NLP_100_9/NLP_100_7.ipynb)"
   ]
  },
  {
   "cell_type": "code",
   "execution_count": null,
   "metadata": {
    "colab": {
     "base_uri": "https://localhost:8080/"
    },
    "executionInfo": {
     "elapsed": 2347,
     "status": "ok",
     "timestamp": 1649233038689,
     "user": {
      "displayName": "Tatsuki Okada",
      "userId": "12310138447043973112"
     },
     "user_tz": -540
    },
    "id": "jBYlYY_Q7o3R",
    "outputId": "eb0ab3a2-09cc-4831-853b-152e7989c192"
   },
   "outputs": [],
   "source": [
    "from google.colab import drive\n",
    "drive.mount('/content/drive')"
   ]
  },
  {
   "cell_type": "markdown",
   "metadata": {
    "id": "jGKwwqzmDYUf"
   },
   "source": [
    "# 単語ベクトルの読み込みと表示\n",
    "## Google Newsデータセット（約1,000億単語）での学習済み単語ベクトル（300万単語・フレーズ，300次元）をダウンロードし，”United States”の単語ベクトルを表示せよ．ただし，”United States”は内部的には”United_States”と表現されていることに注意せよ．"
   ]
  },
  {
   "cell_type": "code",
   "execution_count": null,
   "metadata": {
    "executionInfo": {
     "elapsed": 4,
     "status": "ok",
     "timestamp": 1649233038689,
     "user": {
      "displayName": "Tatsuki Okada",
      "userId": "12310138447043973112"
     },
     "user_tz": -540
    },
    "id": "LWa0fAY8EpJe"
   },
   "outputs": [],
   "source": [
    "# !wget https://drive.google.com/file/d/0B7XkCwpI5KDYNlNUTTlSS21pQmM/edit?resourcekey=0-wjGZdNAUop6WykTtMip30g"
   ]
  },
  {
   "cell_type": "code",
   "execution_count": null,
   "metadata": {
    "executionInfo": {
     "elapsed": 4,
     "status": "ok",
     "timestamp": 1649233038690,
     "user": {
      "displayName": "Tatsuki Okada",
      "userId": "12310138447043973112"
     },
     "user_tz": -540
    },
    "id": "98jXpy0nRwX4"
   },
   "outputs": [],
   "source": [
    "# ダウンロード制限の為ダウンロードしたものを直接読み込む\n",
    "# FILE_ID = \"0B7XkCwpI5KDYNlNUTTlSS21pQmM\"\n",
    "# FILE_NAME = \"GoogleNews-vectors-negative300.bin.gz\"\n",
    "# !wget --load-cookies /tmp/cookies.txt \"https://docs.google.com/uc?export=download&confirm=$(wget --quiet --save-cookies /tmp/cookies.txt --keep-session-cookies --no-check-certificate 'https://docs.google.com/uc?export=download&id=$FILE_ID' -O- | sed -rn 's/.*confirm=([0-9A-Za-z_]+).*/\\1\\n/p')&id=$FILE_ID\" -O $FILE_NAME && rm -rf /tmp/cookies.txt"
   ]
  },
  {
   "cell_type": "code",
   "execution_count": null,
   "metadata": {
    "executionInfo": {
     "elapsed": 145906,
     "status": "ok",
     "timestamp": 1649233184592,
     "user": {
      "displayName": "Tatsuki Okada",
      "userId": "12310138447043973112"
     },
     "user_tz": -540
    },
    "id": "zxIsecJ5Q2AB"
   },
   "outputs": [],
   "source": [
    "from gensim.models import KeyedVectors\n",
    "\n",
    "model = KeyedVectors.load_word2vec_format('/content/drive/MyDrive/Tutorial/GoogleNews-vectors-negative300.bin.gz', binary=True)"
   ]
  },
  {
   "cell_type": "code",
   "execution_count": null,
   "metadata": {
    "colab": {
     "base_uri": "https://localhost:8080/"
    },
    "executionInfo": {
     "elapsed": 11,
     "status": "ok",
     "timestamp": 1649233184593,
     "user": {
      "displayName": "Tatsuki Okada",
      "userId": "12310138447043973112"
     },
     "user_tz": -540
    },
    "id": "3WACSO_3W09l",
    "outputId": "e4d21c10-b4c1-4d6b-f2c0-4a14e76d99d0"
   },
   "outputs": [],
   "source": [
    "model['United_States']"
   ]
  },
  {
   "cell_type": "code",
   "execution_count": null,
   "metadata": {
    "executionInfo": {
     "elapsed": 8,
     "status": "ok",
     "timestamp": 1649233184593,
     "user": {
      "displayName": "Tatsuki Okada",
      "userId": "12310138447043973112"
     },
     "user_tz": -540
    },
    "id": "woo-bwAqTlb8"
   },
   "outputs": [],
   "source": [
    "# 参考https://skume.net/entry/2020/11/23/043738\n",
    "# https://blog.amedama.jp/entry/gensim-fasttext-pre-trained-word-vectors"
   ]
  },
  {
   "cell_type": "markdown",
   "metadata": {
    "id": "isrH5f7UDYY3"
   },
   "source": [
    "# 単語の類似度\n",
    "## “United States”と”U.S.”のコサイン類似度を計算せよ"
   ]
  },
  {
   "cell_type": "code",
   "execution_count": null,
   "metadata": {
    "colab": {
     "base_uri": "https://localhost:8080/"
    },
    "executionInfo": {
     "elapsed": 8,
     "status": "ok",
     "timestamp": 1649233184594,
     "user": {
      "displayName": "Tatsuki Okada",
      "userId": "12310138447043973112"
     },
     "user_tz": -540
    },
    "id": "g8ymJ-k7Epua",
    "outputId": "c17b9495-4d44-4c47-87a2-7dcd40ff3706"
   },
   "outputs": [],
   "source": [
    "model.similarity('United_States', 'U.S.')"
   ]
  },
  {
   "cell_type": "code",
   "execution_count": null,
   "metadata": {
    "executionInfo": {
     "elapsed": 5,
     "status": "ok",
     "timestamp": 1649233184594,
     "user": {
      "displayName": "Tatsuki Okada",
      "userId": "12310138447043973112"
     },
     "user_tz": -540
    },
    "id": "9X6ZdZk-XqFh"
   },
   "outputs": [],
   "source": [
    "# https://qiita.com/DancingEnginee1/items/b10c8ef7893d99aa53be"
   ]
  },
  {
   "cell_type": "markdown",
   "metadata": {
    "id": "JOmOugBrDYbz"
   },
   "source": [
    "#  類似度の高い単語10件\n",
    "## “United States”とコサイン類似度が高い10語と，その類似度を出力せよ．"
   ]
  },
  {
   "cell_type": "code",
   "execution_count": null,
   "metadata": {
    "colab": {
     "base_uri": "https://localhost:8080/"
    },
    "executionInfo": {
     "elapsed": 9193,
     "status": "ok",
     "timestamp": 1649233193782,
     "user": {
      "displayName": "Tatsuki Okada",
      "userId": "12310138447043973112"
     },
     "user_tz": -540
    },
    "id": "OuESKMjYEqeJ",
    "outputId": "ae18d3a1-e0e5-4750-eae4-0de5ea87e684"
   },
   "outputs": [],
   "source": [
    "model.most_similar(['United_States'], [], 10)"
   ]
  },
  {
   "cell_type": "code",
   "execution_count": null,
   "metadata": {
    "executionInfo": {
     "elapsed": 13,
     "status": "ok",
     "timestamp": 1649233193782,
     "user": {
      "displayName": "Tatsuki Okada",
      "userId": "12310138447043973112"
     },
     "user_tz": -540
    },
    "id": "E4RrKnFKYXUt"
   },
   "outputs": [],
   "source": [
    "# 参考https://www.google.com/search?q=most_similar&sxsrf=APq-WBsf2tcpBPSTroJK4JcGk9mRtGKwxA%3A1647830959279&ei=r-c3YsTWEMul2roPo5GA6AU&ved=0ahUKEwiE6ujXmNb2AhXLklYBHaMIAF0Q4dUDCA4&uact=5&oq=most_similar&gs_lcp=Cgdnd3Mtd2l6EAMyBQgAEIAEMgUIABCABDIFCAAQgAQyBQgAEIAEMgQIABAeMgQIABAeMgQIABAeMgQIABAeOgcIIxDqAhAnSgQIQRgASgQIRhgAUNMHWNMHYL8KaAFwAXgAgAFUiAFUkgEBMZgBAKABAaABArABCsABAQ&sclient=gws-wiz\n",
    "# https://teratail.com/questions/306461\n",
    "# https://qiita.com/iss-f/items/aec567ee5c79464413dc"
   ]
  },
  {
   "cell_type": "markdown",
   "metadata": {
    "id": "KVFPai-eDYeO"
   },
   "source": [
    "# 加法構成性によるアナロジー\n",
    "## “Spain”の単語ベクトルから”Madrid”のベクトルを引き，”Athens”のベクトルを足したベクトルを計算し，そのベクトルと類似度の高い10語とその類似度を出力せよ．"
   ]
  },
  {
   "cell_type": "code",
   "execution_count": null,
   "metadata": {
    "colab": {
     "base_uri": "https://localhost:8080/"
    },
    "executionInfo": {
     "elapsed": 352,
     "status": "ok",
     "timestamp": 1649233194122,
     "user": {
      "displayName": "Tatsuki Okada",
      "userId": "12310138447043973112"
     },
     "user_tz": -540
    },
    "id": "L4C1v5wQErGb",
    "outputId": "b49b6408-5688-4cc6-9b0a-bb8913d4f4dc"
   },
   "outputs": [],
   "source": [
    "model.most_similar(positive=['Spain', 'Athens'], negative=['Madrid'], topn=10)"
   ]
  },
  {
   "cell_type": "markdown",
   "metadata": {
    "id": "0PdF-CTiDYgz"
   },
   "source": [
    "# アナロジーデータでの実験\n",
    "## 単語アナロジーの評価データをダウンロードし，vec(2列目の単語) - vec(1列目の単語) + vec(3列目の単語)を計算し，そのベクトルと類似度が最も高い単語と，その類似度を求めよ．求めた単語と類似度は，各事例の末尾に追記せよ．"
   ]
  },
  {
   "cell_type": "code",
   "execution_count": null,
   "metadata": {
    "colab": {
     "base_uri": "https://localhost:8080/"
    },
    "executionInfo": {
     "elapsed": 557,
     "status": "ok",
     "timestamp": 1649233194677,
     "user": {
      "displayName": "Tatsuki Okada",
      "userId": "12310138447043973112"
     },
     "user_tz": -540
    },
    "id": "z63y8DmwEruY",
    "outputId": "73d9f324-5b17-4ac7-f192-e23531758be2"
   },
   "outputs": [],
   "source": [
    "!wget http://download.tensorflow.org/data/questions-words.txt"
   ]
  },
  {
   "cell_type": "code",
   "execution_count": null,
   "metadata": {
    "colab": {
     "base_uri": "https://localhost:8080/"
    },
    "executionInfo": {
     "elapsed": 411,
     "status": "ok",
     "timestamp": 1649233195086,
     "user": {
      "displayName": "Tatsuki Okada",
      "userId": "12310138447043973112"
     },
     "user_tz": -540
    },
    "id": "LHA517mHy9nc",
    "outputId": "780579f7-f30d-48ac-f4c6-ec2227e322e5"
   },
   "outputs": [],
   "source": [
    "!head -30 questions-words.txt"
   ]
  },
  {
   "cell_type": "code",
   "execution_count": null,
   "metadata": {
    "executionInfo": {
     "elapsed": 3,
     "status": "ok",
     "timestamp": 1649233195087,
     "user": {
      "displayName": "Tatsuki Okada",
      "userId": "12310138447043973112"
     },
     "user_tz": -540
    },
    "id": "CZs_9uMovwgG"
   },
   "outputs": [],
   "source": [
    "# Athens Greece Tokyo Japan\n",
    "# Baghdad Iraq Bangkok Thailand\n",
    "\n",
    "# with open('questions-words.txt', 'r') as f1:\n",
    "#     questions = f1.readlines()\n",
    "\n",
    "# with open('result.txt', 'w') as f2:\n",
    "#     for idx, question in enumerate(questions):\n",
    "#         words = question.split()\n",
    "#         if len(words) == 4:\n",
    "#             scores = model.most_similar(positive=[words[1], words[2]], negative=[words[0]], topn=1)[0]\n",
    "#             words += [scores[0], str(scores[1])]\n",
    "#             output = ' '.join(words) + '\\n'\n",
    "#         else:\n",
    "#             output = question\n",
    "#         f2.write(output)"
   ]
  },
  {
   "cell_type": "code",
   "execution_count": null,
   "metadata": {
    "executionInfo": {
     "elapsed": 7276282,
     "status": "ok",
     "timestamp": 1649240471367,
     "user": {
      "displayName": "Tatsuki Okada",
      "userId": "12310138447043973112"
     },
     "user_tz": -540
    },
    "id": "0bznxVV26Hui"
   },
   "outputs": [],
   "source": [
    "with open('questions-words.txt', 'r') as fin:\n",
    "    questions = fin.readlines()\n",
    "\n",
    "with open('result.txt', 'w') as fout:\n",
    "    for idx, question in enumerate(questions):\n",
    "        words = question.split()\n",
    "        if len(words) == 4:\n",
    "            scores = model.most_similar(positive=[words[1], words[2]], negative=[words[0]], topn=1)[0]\n",
    "            output = ' '.join(words + [scores[0], str(scores[1])]) + '\\n'\n",
    "        else:\n",
    "            output = question\n",
    "        fout.write(output)"
   ]
  },
  {
   "cell_type": "code",
   "execution_count": null,
   "metadata": {
    "executionInfo": {
     "elapsed": 5,
     "status": "ok",
     "timestamp": 1649240471367,
     "user": {
      "displayName": "Tatsuki Okada",
      "userId": "12310138447043973112"
     },
     "user_tz": -540
    },
    "id": "sX0oxsjo3hBk"
   },
   "outputs": [],
   "source": [
    "# with open('questions-words.txt', 'r') as f1:\n",
    "#     questions = f1.readlines()\n",
    "\n",
    "# with open('result.txt', 'w') as f2:\n",
    "#     for idx, question in enumerate(questions):\n",
    "#         words = question.split()\n",
    "#         if len(words) == 4:\n",
    "#             scores = model.most_similar(positive=[words[1], words[2]], negative=[words[0]], topn=1)[0]\n",
    "#             output = ' '.join(words + [scores[0], str(scores[1])]) + '\\n'\n",
    "#         else:\n",
    "#             output = question\n",
    "#         f2.write(output)"
   ]
  },
  {
   "cell_type": "code",
   "execution_count": null,
   "metadata": {
    "colab": {
     "base_uri": "https://localhost:8080/"
    },
    "executionInfo": {
     "elapsed": 526,
     "status": "ok",
     "timestamp": 1649240471890,
     "user": {
      "displayName": "Tatsuki Okada",
      "userId": "12310138447043973112"
     },
     "user_tz": -540
    },
    "id": "rYyfpArU3yHk",
    "outputId": "9f0ba855-38ed-4fbc-d32d-8236df95fbd6"
   },
   "outputs": [],
   "source": [
    "!head -30 result.txt"
   ]
  },
  {
   "cell_type": "code",
   "execution_count": null,
   "metadata": {
    "executionInfo": {
     "elapsed": 2,
     "status": "ok",
     "timestamp": 1649240471891,
     "user": {
      "displayName": "Tatsuki Okada",
      "userId": "12310138447043973112"
     },
     "user_tz": -540
    },
    "id": "HN1IK1mf5f8R"
   },
   "outputs": [],
   "source": [
    "# https://blog.codecamp.jp/posts-34408\n",
    "# https://yu-nix.com/blog/2021/6/2/python-write-file/\n",
    "# https://dr-kayai.hatenablog.com/entry/2014/02/24/131634\n",
    "# https://blog.codecamp.jp/posts-34408\n",
    "# https://naruport.com/blog/2019/9/14/python-tutorial-open-and-close-file/\n",
    "# http://web.wakayama-u.ac.jp/~kazama/lab/python/i18n.html\n",
    "# https://qiita.com/shun-shun123/items/13474f481eebbc508a8c"
   ]
  },
  {
   "cell_type": "markdown",
   "metadata": {
    "id": "sZ-6DovNDYjX"
   },
   "source": [
    "# アナロジータスクでの正解率\n",
    "## 64の実行結果を用い，意味的アナロジー（semantic analogy）と文法的アナロジー（syntactic analogy）の正解率を測定せよ．"
   ]
  },
  {
   "cell_type": "code",
   "execution_count": null,
   "metadata": {
    "colab": {
     "base_uri": "https://localhost:8080/"
    },
    "executionInfo": {
     "elapsed": 282,
     "status": "ok",
     "timestamp": 1649240472171,
     "user": {
      "displayName": "Tatsuki Okada",
      "userId": "12310138447043973112"
     },
     "user_tz": -540
    },
    "id": "WSjRO2ubAnWX",
    "outputId": "24469790-2201-4bff-cdaa-3bb1a90e8026"
   },
   "outputs": [],
   "source": [
    "from sklearn.metrics import accuracy_score\n",
    "\n",
    "with open('result.txt', 'r') as fin:\n",
    "    results = fin.read()\n",
    "\n",
    "texts = results.splitlines()\n",
    "label_true = []\n",
    "label_pred = []\n",
    "for text in texts:\n",
    "    words = text.split(' ') \n",
    "    if words[0] == ':':\n",
    "        continue\n",
    "    label_true.append(words[3])\n",
    "    label_pred.append(words[4])\n",
    "\n",
    "print(accuracy_score(label_true, label_pred))"
   ]
  },
  {
   "cell_type": "code",
   "execution_count": null,
   "metadata": {
    "executionInfo": {
     "elapsed": 3,
     "status": "ok",
     "timestamp": 1649240472172,
     "user": {
      "displayName": "Tatsuki Okada",
      "userId": "12310138447043973112"
     },
     "user_tz": -540
    },
    "id": "HOcQfte35FgL"
   },
   "outputs": [],
   "source": [
    "#参考https://itsakura.com/python-startswith"
   ]
  },
  {
   "cell_type": "markdown",
   "metadata": {
    "id": "9Qex_dkADYmC"
   },
   "source": [
    "# WordSimilarity-353での評価\n",
    "## The WordSimilarity-353 Test Collectionの評価データをダウンロードし，単語ベクトルにより計算される類似度のランキングと，人間の類似度判定のランキングの間のスピアマン相関係数を計算せよ．"
   ]
  },
  {
   "cell_type": "code",
   "execution_count": null,
   "metadata": {
    "colab": {
     "base_uri": "https://localhost:8080/"
    },
    "executionInfo": {
     "elapsed": 603,
     "status": "ok",
     "timestamp": 1649240472773,
     "user": {
      "displayName": "Tatsuki Okada",
      "userId": "12310138447043973112"
     },
     "user_tz": -540
    },
    "id": "6pqryGiTEtTs",
    "outputId": "05cf4516-c143-4344-86f8-6745f5325ba4"
   },
   "outputs": [],
   "source": [
    "!wget http://www.gabrilovich.com/resources/data/wordsim353/wordsim353.zip"
   ]
  },
  {
   "cell_type": "code",
   "execution_count": null,
   "metadata": {
    "colab": {
     "base_uri": "https://localhost:8080/"
    },
    "executionInfo": {
     "elapsed": 422,
     "status": "ok",
     "timestamp": 1649240473193,
     "user": {
      "displayName": "Tatsuki Okada",
      "userId": "12310138447043973112"
     },
     "user_tz": -540
    },
    "id": "viM3naSX_Co8",
    "outputId": "dbee6e9b-0894-40cf-e21d-eae37c9673eb"
   },
   "outputs": [],
   "source": [
    "!unzip wordsim353.zip"
   ]
  },
  {
   "cell_type": "code",
   "execution_count": null,
   "metadata": {
    "colab": {
     "base_uri": "https://localhost:8080/"
    },
    "executionInfo": {
     "elapsed": 245,
     "status": "ok",
     "timestamp": 1649240473436,
     "user": {
      "displayName": "Tatsuki Okada",
      "userId": "12310138447043973112"
     },
     "user_tz": -540
    },
    "id": "S3SGQX_2_Euy",
    "outputId": "814d9f61-8d46-4c7b-8eb4-d96d0a50c9b4"
   },
   "outputs": [],
   "source": [
    "!head -10 'combined.csv'"
   ]
  },
  {
   "cell_type": "code",
   "execution_count": null,
   "metadata": {
    "colab": {
     "base_uri": "https://localhost:8080/"
    },
    "executionInfo": {
     "elapsed": 3,
     "status": "ok",
     "timestamp": 1649240473437,
     "user": {
      "displayName": "Tatsuki Okada",
      "userId": "12310138447043973112"
     },
     "user_tz": -540
    },
    "id": "O51mpMeF_eRU",
    "outputId": "0441fc88-3392-4e71-e39b-33632b4afa6d"
   },
   "outputs": [],
   "source": [
    "#単語ベクトルにより計算される類似度\n",
    "w_s_353 = []\n",
    "with open('./combined.csv', 'r') as fin:\n",
    "    next(fin)\n",
    "    for text in fin:\n",
    "        words = [_.strip() for _ in text.split(',')]\n",
    "        words.append(model.similarity(words[0], words[1]))\n",
    "        w_s_353.append(words)\n",
    "\n",
    "for i in range(30):\n",
    "    print(w_s_353[i])"
   ]
  },
  {
   "cell_type": "code",
   "execution_count": null,
   "metadata": {
    "executionInfo": {
     "elapsed": 5,
     "status": "ok",
     "timestamp": 1649240474735,
     "user": {
      "displayName": "Tatsuki Okada",
      "userId": "12310138447043973112"
     },
     "user_tz": -540
    },
    "id": "oN1-4XZGAHTa"
   },
   "outputs": [],
   "source": [
    "# import numpy as np\n",
    "# from scipy.stats import spearmanr\n",
    "\n",
    "# human = np.array(w_s_353).T[2]\n",
    "# w2v = np.array(w_s_353).T[3]\n",
    "\n",
    "# correlation, pvalue = spearmanr(human, w2v)\n",
    "# print(correlation)"
   ]
  },
  {
   "cell_type": "code",
   "execution_count": null,
   "metadata": {
    "colab": {
     "base_uri": "https://localhost:8080/"
    },
    "executionInfo": {
     "elapsed": 6,
     "status": "ok",
     "timestamp": 1649240474736,
     "user": {
      "displayName": "Tatsuki Okada",
      "userId": "12310138447043973112"
     },
     "user_tz": -540
    },
    "id": "VYdAS5068q0L",
    "outputId": "9d9e2bf1-2b41-4056-a30f-9f399c9c09d6"
   },
   "outputs": [],
   "source": [
    "import numpy as np\n",
    "from scipy.stats import spearmanr\n",
    "\n",
    "w_s_353_array = np.array(w_s_353)\n",
    "human = w_s_353_array[:, 2]\n",
    "w2v = w_s_353_array[:, 3]\n",
    "\n",
    "correlation, pvalue = spearmanr(human, w2v)\n",
    "print(correlation)"
   ]
  },
  {
   "cell_type": "code",
   "execution_count": null,
   "metadata": {
    "executionInfo": {
     "elapsed": 4,
     "status": "ok",
     "timestamp": 1649240474736,
     "user": {
      "displayName": "Tatsuki Okada",
      "userId": "12310138447043973112"
     },
     "user_tz": -540
    },
    "id": "S2-1c8blAeag"
   },
   "outputs": [],
   "source": [
    "#参考https://qiita.com/dacciinfo/items/88debe69f9f4e927aafc"
   ]
  },
  {
   "cell_type": "markdown",
   "metadata": {
    "id": "pEkKFGRiDYog"
   },
   "source": [
    "# k-meansクラスタリング\n",
    "## 国名に関する単語ベクトルを抽出し，k-meansクラスタリングをクラスタ数k=5として実行せよ"
   ]
  },
  {
   "cell_type": "code",
   "execution_count": null,
   "metadata": {
    "colab": {
     "base_uri": "https://localhost:8080/"
    },
    "executionInfo": {
     "elapsed": 377,
     "status": "ok",
     "timestamp": 1649240475109,
     "user": {
      "displayName": "Tatsuki Okada",
      "userId": "12310138447043973112"
     },
     "user_tz": -540
    },
    "id": "jpr1rg8cEq5b",
    "outputId": "645b352c-e83d-4eb9-85ff-f38b415d4f17"
   },
   "outputs": [],
   "source": [
    "!wc questions-words.txt"
   ]
  },
  {
   "cell_type": "code",
   "execution_count": null,
   "metadata": {
    "executionInfo": {
     "elapsed": 3,
     "status": "ok",
     "timestamp": 1649240475109,
     "user": {
      "displayName": "Tatsuki Okada",
      "userId": "12310138447043973112"
     },
     "user_tz": -540
    },
    "id": "zoreHy8p__2o"
   },
   "outputs": [],
   "source": [
    "# !head -19558 questions-words.txt"
   ]
  },
  {
   "cell_type": "code",
   "execution_count": null,
   "metadata": {
    "executionInfo": {
     "elapsed": 3,
     "status": "ok",
     "timestamp": 1649240475109,
     "user": {
      "displayName": "Tatsuki Okada",
      "userId": "12310138447043973112"
     },
     "user_tz": -540
    },
    "id": "LaXlE7cMHP0x"
   },
   "outputs": [],
   "source": [
    "# !head -100 questions-words.txt"
   ]
  },
  {
   "cell_type": "code",
   "execution_count": null,
   "metadata": {
    "executionInfo": {
     "elapsed": 3,
     "status": "ok",
     "timestamp": 1649240475110,
     "user": {
      "displayName": "Tatsuki Okada",
      "userId": "12310138447043973112"
     },
     "user_tz": -540
    },
    "id": "JulD9t1dH1my"
   },
   "outputs": [],
   "source": [
    "# with open('questions-words.txt' , 'r') as f:\n",
    "#     questions = f.read()\n",
    "# questions.splitlines()\n",
    "# questions"
   ]
  },
  {
   "cell_type": "code",
   "execution_count": null,
   "metadata": {
    "executionInfo": {
     "elapsed": 335,
     "status": "ok",
     "timestamp": 1649240475442,
     "user": {
      "displayName": "Tatsuki Okada",
      "userId": "12310138447043973112"
     },
     "user_tz": -540
    },
    "id": "44yd_hj4EuBq"
   },
   "outputs": [],
   "source": [
    "from sklearn.cluster import KMeans\n",
    "import gensim\n",
    "\n",
    "with open('questions-words.txt', 'r') as fin:\n",
    "    questions = fin.read()\n",
    "\n",
    "# 国名\n",
    "countries = set()\n",
    "for text in questions.splitlines():\n",
    "    words = text.split(' ')\n",
    "\n",
    "    if words[0] == ':':\n",
    "        if words[1] == 'currency':\n",
    "            break\n",
    "        continue\n",
    "\n",
    "    # if words[0] == ':' and words[1] == 'currency' # : のときにはスキップする必要があるので修正が必要なさそうです。\n",
    "    #   break\n",
    "\n",
    "    countries.add(words[1])\n",
    "\n",
    "countries = list(countries)\n",
    "\n",
    "# 国名に関する単語ベクトルを抽出\n",
    "countries_vec = model[countries]"
   ]
  },
  {
   "cell_type": "code",
   "execution_count": null,
   "metadata": {
    "colab": {
     "base_uri": "https://localhost:8080/"
    },
    "executionInfo": {
     "elapsed": 817,
     "status": "ok",
     "timestamp": 1649240476257,
     "user": {
      "displayName": "Tatsuki Okada",
      "userId": "12310138447043973112"
     },
     "user_tz": -540
    },
    "id": "wlSTKVFEOO-G",
    "outputId": "8ea4b7b1-ce98-496d-f227-54eb018b2597"
   },
   "outputs": [],
   "source": [
    "km = KMeans(n_clusters=5, random_state=42)\n",
    "km.fit(countries_vec)\n",
    "\n",
    "predict_list = list(km.predict(model[countries]))\n",
    "\n",
    "for _ in range(5):\n",
    "    print(_, ' : ')\n",
    "    country_class = sorted([countries[num] for num in range(len(predict_list)) if predict_list[num] == _])\n",
    "    print(' '.join(country_class))"
   ]
  },
  {
   "cell_type": "markdown",
   "metadata": {
    "id": "1o5I6j23DYqz"
   },
   "source": [
    "# Ward法によるクラスタリング\n",
    "## 国名に関する単語ベクトルに対し，Ward法による階層型クラスタリングを実行せよ．さらに，クラスタリング結果をデンドログラムとして可視化せよ．"
   ]
  },
  {
   "cell_type": "code",
   "execution_count": null,
   "metadata": {
    "colab": {
     "base_uri": "https://localhost:8080/",
     "height": 674
    },
    "executionInfo": {
     "elapsed": 4224,
     "status": "ok",
     "timestamp": 1649240480479,
     "user": {
      "displayName": "Tatsuki Okada",
      "userId": "12310138447043973112"
     },
     "user_tz": -540
    },
    "id": "07AORICNSp88",
    "outputId": "6e381678-c080-49bf-f40e-f2e82b4f7b24"
   },
   "outputs": [],
   "source": [
    "from matplotlib import pyplot as plt\n",
    "from scipy.cluster.hierarchy import dendrogram, linkage\n",
    "\n",
    "#作図\n",
    "plt.figure(figsize=(50, 20))\n",
    "link = linkage(countries_vec, method='ward')\n",
    "dendrogram(link, labels=countries)\n",
    "plt.show()"
   ]
  },
  {
   "cell_type": "code",
   "execution_count": null,
   "metadata": {
    "executionInfo": {
     "elapsed": 5,
     "status": "ok",
     "timestamp": 1649240480480,
     "user": {
      "displayName": "Tatsuki Okada",
      "userId": "12310138447043973112"
     },
     "user_tz": -540
    },
    "id": "Amk9ggOJLpau"
   },
   "outputs": [],
   "source": [
    "#参考https://qiita.com/pontyo4/items/a2e7dec57c3699c519a5\n",
    "#https://di-acc2.com/programming/python/4478/"
   ]
  },
  {
   "cell_type": "markdown",
   "metadata": {
    "id": "h1jVUVdFDYtP"
   },
   "source": [
    "# t-SNEによる可視化\n",
    "## ベクトル空間上の国名に関する単語ベクトルをt-SNEで可視化せよ"
   ]
  },
  {
   "cell_type": "code",
   "execution_count": null,
   "metadata": {
    "colab": {
     "base_uri": "https://localhost:8080/",
     "height": 729
    },
    "executionInfo": {
     "elapsed": 2170,
     "status": "ok",
     "timestamp": 1649240482646,
     "user": {
      "displayName": "Tatsuki Okada",
      "userId": "12310138447043973112"
     },
     "user_tz": -540
    },
    "id": "UoozPXpDEvSm",
    "outputId": "13e38644-e158-4a87-ade8-70dc0f9d5161"
   },
   "outputs": [],
   "source": [
    "#model,data\n",
    "from sklearn.manifold import TSNE\n",
    "\n",
    "ts = TSNE(n_components=2, random_state=42) #n_components=2 次元\n",
    "country_vec_embedded = ts.fit_transform(countries_vec)\n",
    "xs = [_[0] for _ in country_vec_embedded]\n",
    "ys = [_[1] for _ in country_vec_embedded]\n",
    "\n",
    "#作図\n",
    "fig = plt.figure(figsize=(50, 20))\n",
    "plt.scatter(xs, ys)\n",
    "ax = plt.gca() #Pyplotインターフェースからオブジェクト指向インターフェースに切り替える\n",
    "\n",
    "for idx, country in enumerate(countries):\n",
    "    ax.annotate(country, (xs[idx], ys[idx]))\n",
    "plt.show()"
   ]
  },
  {
   "cell_type": "code",
   "execution_count": null,
   "metadata": {
    "executionInfo": {
     "elapsed": 6,
     "status": "ok",
     "timestamp": 1649240482646,
     "user": {
      "displayName": "Tatsuki Okada",
      "userId": "12310138447043973112"
     },
     "user_tz": -540
    },
    "id": "jjfTBo17U5Mk"
   },
   "outputs": [],
   "source": [
    "# 参考https://qiita.com/g-k/items/120f1cf85ff2ceae4aba\n",
    "# https://qiita.com/skotaro/items/08dc0b8c5704c94eafb9"
   ]
  }
 ],
 "metadata": {
  "colab": {
   "authorship_tag": "ABX9TyOqBl0JqRpxH4KVgE86k37p",
   "collapsed_sections": [],
   "name": "NLP_100_7.ipynb",
   "provenance": []
  },
  "kernelspec": {
   "display_name": "Python 3 (ipykernel)",
   "language": "python",
   "name": "python3"
  },
  "language_info": {
   "codemirror_mode": {
    "name": "ipython",
    "version": 3
   },
   "file_extension": ".py",
   "mimetype": "text/x-python",
   "name": "python",
   "nbconvert_exporter": "python",
   "pygments_lexer": "ipython3",
   "version": "3.9.5"
  }
 },
 "nbformat": 4,
 "nbformat_minor": 4
}
