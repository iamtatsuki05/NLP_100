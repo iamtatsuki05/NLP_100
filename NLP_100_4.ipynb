{
 "cells": [
  {
   "cell_type": "markdown",
   "metadata": {
    "id": "60G-86_w9h9c"
   },
   "source": [
    "# 形態素解析\n",
    "## 夏目漱石の小説『吾輩は猫である』の文章（neko.txt）をMeCabを使って形態素解析し，その結果をneko.txt.mecabというファイルに保存せよ．このファイルを用いて，以下の問に対応するプログラムを実装せよ．なお，問題37, 38, 39はmatplotlibもしくはGnuplotを用いるとよい．\n",
    "\n",
    "#### https://nlp100.github.io/ja/ch04.html"
   ]
  },
  {
   "cell_type": "markdown",
   "metadata": {
    "id": "nlIGMC8rmasF"
   },
   "source": [
    "[![Open In Colab](https://colab.research.google.com/assets/colab-badge.svg)](https://colab.research.google.com/github/iamtatsuki05/NLP_100/blob/fix_all_merge/NLP_100_4.ipynb)"
   ]
  },
  {
   "cell_type": "code",
   "execution_count": null,
   "metadata": {
    "colab": {
     "base_uri": "https://localhost:8080/"
    },
    "executionInfo": {
     "elapsed": 17966,
     "status": "ok",
     "timestamp": 1648977221841,
     "user": {
      "displayName": "Tatsuki Okada",
      "userId": "12310138447043973112"
     },
     "user_tz": -540
    },
    "id": "jBYlYY_Q7o3R",
    "outputId": "a2c9d9e1-3d0b-4469-cee8-5d8310f5bfbb"
   },
   "outputs": [],
   "source": [
    "from google.colab import drive\n",
    "drive.mount('/content/drive')"
   ]
  },
  {
   "cell_type": "code",
   "execution_count": null,
   "metadata": {
    "colab": {
     "base_uri": "https://localhost:8080/"
    },
    "executionInfo": {
     "elapsed": 421,
     "status": "ok",
     "timestamp": 1648977222255,
     "user": {
      "displayName": "Tatsuki Okada",
      "userId": "12310138447043973112"
     },
     "user_tz": -540
    },
    "id": "ul1ASg4S8-1o",
    "outputId": "89f3a669-1f91-412d-c0f6-ac64e13957ec"
   },
   "outputs": [],
   "source": [
    "!wget https://nlp100.github.io/data/neko.txt"
   ]
  },
  {
   "cell_type": "code",
   "execution_count": null,
   "metadata": {
    "colab": {
     "base_uri": "https://localhost:8080/"
    },
    "executionInfo": {
     "elapsed": 22575,
     "status": "ok",
     "timestamp": 1648977244828,
     "user": {
      "displayName": "Tatsuki Okada",
      "userId": "12310138447043973112"
     },
     "user_tz": -540
    },
    "id": "-9SXOg06wZbZ",
    "outputId": "78c8428c-0cba-41c8-974d-d642de208a1c"
   },
   "outputs": [],
   "source": [
    "!apt install mecab libmecab-dev mecab-ipadic-utf8"
   ]
  },
  {
   "cell_type": "code",
   "execution_count": null,
   "metadata": {
    "executionInfo": {
     "elapsed": 407,
     "status": "ok",
     "timestamp": 1648977245231,
     "user": {
      "displayName": "Tatsuki Okada",
      "userId": "12310138447043973112"
     },
     "user_tz": -540
    },
    "id": "ToeaNkO4y7c7"
   },
   "outputs": [],
   "source": [
    "!mecab -o ./neko.txt.mecab ./neko.txt"
   ]
  },
  {
   "cell_type": "code",
   "execution_count": null,
   "metadata": {
    "colab": {
     "base_uri": "https://localhost:8080/"
    },
    "executionInfo": {
     "elapsed": 7,
     "status": "ok",
     "timestamp": 1648977245232,
     "user": {
      "displayName": "Tatsuki Okada",
      "userId": "12310138447043973112"
     },
     "user_tz": -540
    },
    "id": "bznT_hFv81FO",
    "outputId": "7e365bc4-9d0a-48cf-813e-994768827686"
   },
   "outputs": [],
   "source": [
    "!head -80 ./neko.txt.mecab"
   ]
  },
  {
   "cell_type": "code",
   "execution_count": null,
   "metadata": {
    "executionInfo": {
     "elapsed": 2,
     "status": "ok",
     "timestamp": 1648977245232,
     "user": {
      "displayName": "Tatsuki Okada",
      "userId": "12310138447043973112"
     },
     "user_tz": -540
    },
    "id": "VwrSTiwfxllw"
   },
   "outputs": [],
   "source": [
    "# 参考https://qiita.com/Ninagawa_Izumi/items/c90cccb453e2a6fc4466\n",
    "# http://www.mwsoft.jp/programming/munou/mecab_command.html"
   ]
  },
  {
   "cell_type": "markdown",
   "metadata": {
    "id": "jdPI0uEv9vaR"
   },
   "source": [
    "#  形態素解析結果の読み込み\n",
    "## 形態素解析結果（neko.txt.mecab）を読み込むプログラムを実装せよ．ただし，各形態素は表層形（surface），基本形（base），品詞（pos），品詞細分類1（pos1）をキーとするマッピング型に格納し，1文を形態素（マッピング型）のリストとして表現せよ．第4章の残りの問題では，ここで作ったプログラムを活用せよ．"
   ]
  },
  {
   "cell_type": "code",
   "execution_count": null,
   "metadata": {
    "colab": {
     "base_uri": "https://localhost:8080/"
    },
    "executionInfo": {
     "elapsed": 560,
     "status": "ok",
     "timestamp": 1648977245790,
     "user": {
      "displayName": "Tatsuki Okada",
      "userId": "12310138447043973112"
     },
     "user_tz": -540
    },
    "id": "7AcA95vQx7ga",
    "outputId": "6dd869bf-a66c-4abf-bf9b-b4eb68203acf"
   },
   "outputs": [],
   "source": [
    "text_file_path = './neko.txt.mecab'\n",
    "samples = []\n",
    "tokens = []   #初期化\n",
    "\n",
    "with open(text_file_path, mode='r') as f:\n",
    "    for line in f:\n",
    "        if line != 'EOS\\n': #EOS: End Of Statement #EOSの部分を排除\n",
    "            surface_list = line.split('\\t')\n",
    "            if len(surface_list) != 2 or surface_list[0] == '': #記号、空白などをスキップ\n",
    "                continue\n",
    "            else:\n",
    "                tmp = surface_list[1].split(',')\n",
    "                token = {'surface':surface_list[0], 'base':tmp[6], 'pos':tmp[0], 'pos1':tmp[1]}\n",
    "                tokens.append(token)\n",
    "        else:\n",
    "            samples.append(tokens)\n",
    "            tokens = [] #リセット\n",
    "\n",
    "for num in samples[11]:\n",
    "    print(num)"
   ]
  },
  {
   "cell_type": "code",
   "execution_count": null,
   "metadata": {
    "executionInfo": {
     "elapsed": 8,
     "status": "ok",
     "timestamp": 1648977245791,
     "user": {
      "displayName": "Tatsuki Okada",
      "userId": "12310138447043973112"
     },
     "user_tz": -540
    },
    "id": "dRDVHkLjAHOi"
   },
   "outputs": [],
   "source": [
    "# 参考https://qiita.com/kei_0324/items/400f639b2f185b39a0cf#pospart-of-speech%E3%82%BF%E3%82%B0%E3%81%A8%E3%81%AF"
   ]
  },
  {
   "cell_type": "markdown",
   "metadata": {
    "id": "uDZG6LNX94MS"
   },
   "source": [
    "# 動詞\n",
    "## 動詞の表層形をすべて抽出せよ．"
   ]
  },
  {
   "cell_type": "code",
   "execution_count": null,
   "metadata": {
    "colab": {
     "base_uri": "https://localhost:8080/"
    },
    "executionInfo": {
     "elapsed": 8,
     "status": "ok",
     "timestamp": 1648977245791,
     "user": {
      "displayName": "Tatsuki Okada",
      "userId": "12310138447043973112"
     },
     "user_tz": -540
    },
    "id": "7cE5X28a8-4Y",
    "outputId": "da424bfb-8626-4b0d-91a9-2390fd777f9f"
   },
   "outputs": [],
   "source": [
    "# ex) {'surface': 'つか', 'base': 'つく', 'pos': '動詞', 'pos1': '自立'}\n",
    "verbs = set()\n",
    "for sample in samples:\n",
    "    for num in sample:\n",
    "        if num['pos'] == '動詞':\n",
    "            verbs.add(num['surface'])\n",
    "\n",
    "for verb in list(verbs)[:30]:\n",
    "    print(verb)"
   ]
  },
  {
   "cell_type": "markdown",
   "metadata": {
    "id": "nxQJEB3C9-17"
   },
   "source": [
    "#  動詞の基本形\n",
    "## 動詞の基本形をすべて抽出せよ．\n"
   ]
  },
  {
   "cell_type": "code",
   "execution_count": null,
   "metadata": {
    "colab": {
     "base_uri": "https://localhost:8080/"
    },
    "executionInfo": {
     "elapsed": 7,
     "status": "ok",
     "timestamp": 1648977245791,
     "user": {
      "displayName": "Tatsuki Okada",
      "userId": "12310138447043973112"
     },
     "user_tz": -540
    },
    "id": "nhiziQbeABci",
    "outputId": "7740bf0a-5f95-4d27-daac-2bc27e7e6c27"
   },
   "outputs": [],
   "source": [
    "#ex) {'surface': 'つか', 'base': 'つく', 'pos': '動詞', 'pos1': '自立'}\n",
    "#動詞で識別し、入力データは基本形に！\n",
    "verb_bases = set()\n",
    "for sample in samples:\n",
    "    for num in sample:\n",
    "        if num['pos'] == '動詞':\n",
    "            verb_bases.add(num['base'])\n",
    "\n",
    "for verb_base in list(verb_bases)[:30]:\n",
    "    print(verb_base)"
   ]
  },
  {
   "cell_type": "markdown",
   "metadata": {
    "id": "HOL5qTqf-KFm"
   },
   "source": [
    "# AのB\n",
    "## 2つの名詞が「の」で連結されている名詞句を抽出せよ"
   ]
  },
  {
   "cell_type": "code",
   "execution_count": null,
   "metadata": {
    "colab": {
     "base_uri": "https://localhost:8080/"
    },
    "executionInfo": {
     "elapsed": 8,
     "status": "ok",
     "timestamp": 1648977246364,
     "user": {
      "displayName": "Tatsuki Okada",
      "userId": "12310138447043973112"
     },
     "user_tz": -540
    },
    "id": "lE4uyltl8-64",
    "outputId": "158c122d-08dc-4e88-8632-68323fd60f69"
   },
   "outputs": [],
   "source": [
    "# {'surface': '彼', 'base': '彼', 'pos': '名詞', 'pos1': '代名詞'}\n",
    "# {'surface': 'の', 'base': 'の', 'pos': '助詞', 'pos1': '連体化'}\n",
    "# {'surface': '掌', 'base': '掌', 'pos': '名詞', 'pos1': '一般'}\n",
    "b_of_as = set()\n",
    "for sample in samples:\n",
    "    for num in range(1 , len(sample) - 1):\n",
    "        if sample[num - 1]['pos'] == '名詞' and sample[num]['surface'] == 'の' and sample[num +1]['pos'] =='名詞':\n",
    "            b_of_as.add(sample[num -1]['surface'] + sample[num]['surface'] + sample[num + 1]['surface'])\n",
    "\n",
    "for b_of_a in list(b_of_as)[:30]:\n",
    "    print(b_of_a)"
   ]
  },
  {
   "cell_type": "markdown",
   "metadata": {
    "id": "3VxGXz_u-yOt"
   },
   "source": [
    "# 名詞の連接\n",
    "## 名詞の連接（連続して出現する名詞）を最長一致で抽出せよ．"
   ]
  },
  {
   "cell_type": "code",
   "execution_count": null,
   "metadata": {
    "colab": {
     "base_uri": "https://localhost:8080/"
    },
    "executionInfo": {
     "elapsed": 6,
     "status": "ok",
     "timestamp": 1648977246365,
     "user": {
      "displayName": "Tatsuki Okada",
      "userId": "12310138447043973112"
     },
     "user_tz": -540
    },
    "id": "Cx26tOkb8-9d",
    "outputId": "46a33148-f804-4814-cf94-ab746ec24e0c"
   },
   "outputs": [],
   "source": [
    "# 最長一致https://www.megasoft.co.jp/mifes/seiki/about.html\n",
    "noun_continue = set()\n",
    "for sample in samples:\n",
    "    nouns = ''\n",
    "    num = 0\n",
    "    for tmp in sample:\n",
    "        if tmp['pos'] == '名詞':\n",
    "            nouns = ''.join([nouns, tmp['surface']])\n",
    "            num += 1\n",
    "        elif num >= 2: #初期化\n",
    "            noun_continue.add(nouns)\n",
    "            nouns = ''\n",
    "            num = 0\n",
    "        else:\n",
    "            nouns = ''\n",
    "            num = 0\n",
    "    if num >=2:\n",
    "        noun_continue.add(nouns)\n",
    "\n",
    "for i in list(noun_continue)[:30]:\n",
    "    print(i)"
   ]
  },
  {
   "cell_type": "markdown",
   "metadata": {
    "id": "aLu7ZTU6-5xE"
   },
   "source": [
    "# 単語の出現頻度\n",
    "## 文章中に出現する単語とその出現頻度を求め，出現頻度の高い順に並べよ．"
   ]
  },
  {
   "cell_type": "code",
   "execution_count": null,
   "metadata": {
    "colab": {
     "base_uri": "https://localhost:8080/"
    },
    "executionInfo": {
     "elapsed": 4,
     "status": "ok",
     "timestamp": 1648977246365,
     "user": {
      "displayName": "Tatsuki Okada",
      "userId": "12310138447043973112"
     },
     "user_tz": -540
    },
    "id": "rL9g4nmd8_AL",
    "outputId": "033815ef-86c9-4732-f86c-40ba89f02324"
   },
   "outputs": [],
   "source": [
    "from collections import defaultdict\n",
    "word_freq = defaultdict(int)\n",
    "for sample in samples:\n",
    "    for tmp in sample:\n",
    "        if tmp['pos'] != '記号':\n",
    "            word_freq[tmp['base']] += 1\n",
    "\n",
    "word_freq_sorted = sorted(word_freq.items(), key = lambda x:x[1], reverse=True)\n",
    "word_freq_sorted"
   ]
  },
  {
   "cell_type": "code",
   "execution_count": null,
   "metadata": {
    "executionInfo": {
     "elapsed": 2,
     "status": "ok",
     "timestamp": 1648977246365,
     "user": {
      "displayName": "Tatsuki Okada",
      "userId": "12310138447043973112"
     },
     "user_tz": -540
    },
    "id": "EC4ULCwBZsMz"
   },
   "outputs": [],
   "source": [
    "# 参考https://analysis-navi.com/?p=2167\n",
    "# https://techacademy.jp/magazine/19309"
   ]
  },
  {
   "cell_type": "markdown",
   "metadata": {
    "id": "is7duRVr_BFC"
   },
   "source": [
    "# 頻度上位10語\n",
    "## 出現頻度が高い10語とその出現頻度をグラフ（例えば棒グラフなど）で表示せよ．"
   ]
  },
  {
   "cell_type": "code",
   "execution_count": null,
   "metadata": {
    "colab": {
     "base_uri": "https://localhost:8080/"
    },
    "executionInfo": {
     "elapsed": 5529,
     "status": "ok",
     "timestamp": 1648977251892,
     "user": {
      "displayName": "Tatsuki Okada",
      "userId": "12310138447043973112"
     },
     "user_tz": -540
    },
    "id": "1ZQnJp8m8_Cq",
    "outputId": "f2e89e9b-ce5e-41b7-8533-428d6c0d99b8"
   },
   "outputs": [],
   "source": [
    "!pip install japanize_matplotlib #日本語対応"
   ]
  },
  {
   "cell_type": "code",
   "execution_count": null,
   "metadata": {},
   "outputs": [],
   "source": [
    "import matplotlib.pyplot as plt\n",
    "import japanize_matplotlib"
   ]
  },
  {
   "cell_type": "code",
   "execution_count": null,
   "metadata": {
    "colab": {
     "base_uri": "https://localhost:8080/",
     "height": 0
    },
    "executionInfo": {
     "elapsed": 525,
     "status": "ok",
     "timestamp": 1648977252412,
     "user": {
      "displayName": "Tatsuki Okada",
      "userId": "12310138447043973112"
     },
     "user_tz": -540
    },
    "id": "SCkG41iNibt6",
    "outputId": "83b7b6c6-1c26-4bd8-b91d-3c1a89586ee9"
   },
   "outputs": [],
   "source": [
    "x = [idx[0] for idx in word_freq_sorted[:10]] #key\n",
    "y = [idx[1] for idx in word_freq_sorted[:10]] #volue\n",
    "plt.figure(figsize=(20, 10))\n",
    "plt.bar(x, y)\n",
    "plt.show()"
   ]
  },
  {
   "cell_type": "markdown",
   "metadata": {
    "id": "lJjvbUfe_JOs"
   },
   "source": [
    "# 「猫」と共起頻度の高い上位10語\n",
    "## 「猫」とよく共起する（共起頻度が高い）10語とその出現頻度をグラフ（例えば棒グラフなど）で表示せよ"
   ]
  },
  {
   "cell_type": "code",
   "execution_count": null,
   "metadata": {
    "executionInfo": {
     "elapsed": 4,
     "status": "ok",
     "timestamp": 1648977252413,
     "user": {
      "displayName": "Tatsuki Okada",
      "userId": "12310138447043973112"
     },
     "user_tz": -540
    },
    "id": "-tAKjC7m8_FJ"
   },
   "outputs": [],
   "source": [
    "word_freq_cat = defaultdict(int)\n",
    "for sample in samples:\n",
    "    if '猫' in [idx['surface'] for idx in sample]:\n",
    "        for tmp in sample:\n",
    "            if tmp['pos'] != '記号':\n",
    "                word_freq_cat[tmp['base']] += 1\n",
    "del word_freq_cat['猫']\n",
    "\n",
    "#sort\n",
    "word_freq_cat_soreted = sorted(word_freq_cat.items(), key=lambda x: x[1], reverse=True)"
   ]
  },
  {
   "cell_type": "code",
   "execution_count": null,
   "metadata": {
    "colab": {
     "base_uri": "https://localhost:8080/",
     "height": 0
    },
    "executionInfo": {
     "elapsed": 270,
     "status": "ok",
     "timestamp": 1648977252680,
     "user": {
      "displayName": "Tatsuki Okada",
      "userId": "12310138447043973112"
     },
     "user_tz": -540
    },
    "id": "Aeb_d-0gpDSR",
    "outputId": "ddc8c4db-c6a4-4f23-8846-5c28536e2506"
   },
   "outputs": [],
   "source": [
    "x = [idx[0] for idx in word_freq_cat_soreted[:10]] #key\n",
    "y = [idx[1] for idx in word_freq_cat_soreted[:10]] #volue\n",
    "plt.figure(figsize=(20, 10))\n",
    "plt.bar(x, y)\n",
    "plt.show()"
   ]
  },
  {
   "cell_type": "markdown",
   "metadata": {
    "id": "7Cuds86V_Rsh"
   },
   "source": [
    "# ヒストグラム\n",
    "## 単語の出現頻度のヒストグラムを描け．ただし，横軸は出現頻度を表し，1から単語の出現頻度の最大値までの線形目盛とする．縦軸はx軸で示される出現頻度となった単語の異なり数（種類数）である．"
   ]
  },
  {
   "cell_type": "code",
   "execution_count": null,
   "metadata": {
    "colab": {
     "base_uri": "https://localhost:8080/",
     "height": 0
    },
    "executionInfo": {
     "elapsed": 297,
     "status": "ok",
     "timestamp": 1648977252973,
     "user": {
      "displayName": "Tatsuki Okada",
      "userId": "12310138447043973112"
     },
     "user_tz": -540
    },
    "id": "W974WEZw8_Lu",
    "outputId": "b31272dc-a28a-4cb6-e22f-78c144246c86"
   },
   "outputs": [],
   "source": [
    "values = word_freq.values()\n",
    "plt.figure(figsize=(20, 10))\n",
    "plt.hist(values, bins = 100)\n",
    "plt.xlabel('出現頻度')\n",
    "plt.ylabel('単語の種類数')\n",
    "plt.show()"
   ]
  },
  {
   "cell_type": "markdown",
   "metadata": {
    "id": "Lfv5cJ84_Xni"
   },
   "source": [
    "# Zipfの法則\n",
    "## 単語の出現頻度順位を横軸，その出現頻度を縦軸として，両対数グラフをプロットせよ．"
   ]
  },
  {
   "cell_type": "code",
   "execution_count": null,
   "metadata": {
    "colab": {
     "base_uri": "https://localhost:8080/",
     "height": 0
    },
    "executionInfo": {
     "elapsed": 346,
     "status": "ok",
     "timestamp": 1648977253316,
     "user": {
      "displayName": "Tatsuki Okada",
      "userId": "12310138447043973112"
     },
     "user_tz": -540
    },
    "id": "Ajwp7R_J8_Pj",
    "outputId": "0124a52b-9712-4afb-f7df-6d8946d1ea0c"
   },
   "outputs": [],
   "source": [
    "import numpy as np\n",
    "\n",
    "x = [idx + 1 for idx in range(len(word_freq_sorted))]\n",
    "y = [idx[1] for idx in word_freq_sorted]\n",
    "plt.figure(figsize=(20, 10))\n",
    "plt.scatter(np.log(x), np.log(y))\n",
    "plt.show()"
   ]
  },
  {
   "cell_type": "code",
   "execution_count": null,
   "metadata": {
    "executionInfo": {
     "elapsed": 6,
     "status": "ok",
     "timestamp": 1648977253317,
     "user": {
      "displayName": "Tatsuki Okada",
      "userId": "12310138447043973112"
     },
     "user_tz": -540
    },
    "id": "Zdv5TKQ4q9Tz"
   },
   "outputs": [],
   "source": [
    "# 参考https://controlabo.com/logplot/"
   ]
  }
 ],
 "metadata": {
  "colab": {
   "authorship_tag": "ABX9TyO9uZH8vhnL95XcoaF4W0sq",
   "name": "NLP_100_4.ipynb",
   "provenance": []
  },
  "kernelspec": {
   "display_name": "Python 3 (ipykernel)",
   "language": "python",
   "name": "python3"
  },
  "language_info": {
   "codemirror_mode": {
    "name": "ipython",
    "version": 3
   },
   "file_extension": ".py",
   "mimetype": "text/x-python",
   "name": "python",
   "nbconvert_exporter": "python",
   "pygments_lexer": "ipython3",
   "version": "3.9.5"
  }
 },
 "nbformat": 4,
 "nbformat_minor": 4
}
