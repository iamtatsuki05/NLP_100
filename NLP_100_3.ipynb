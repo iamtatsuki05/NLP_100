{
 "cells": [
  {
   "cell_type": "markdown",
   "id": "ffea18a7-0210-4840-a718-c7bc07443be4",
   "metadata": {
    "id": "ffea18a7-0210-4840-a718-c7bc07443be4"
   },
   "source": [
    "# 言語処理100本ノック_第3章: 正規表現\n",
    "## https://nlp100.github.io/ja/ch03.html"
   ]
  },
  {
   "cell_type": "markdown",
   "id": "2-R8UAdCmzuY",
   "metadata": {
    "id": "2-R8UAdCmzuY"
   },
   "source": [
    "[![Open In Colab](https://colab.research.google.com/assets/colab-badge.svg)](https://colab.research.google.com/github/iamtatsuki05/NLP_100/blob/fix_all_merge/NLP_100_3.ipynb)"
   ]
  },
  {
   "cell_type": "code",
   "execution_count": null,
   "id": "xnSt5j0wmo3G",
   "metadata": {
    "colab": {
     "base_uri": "https://localhost:8080/"
    },
    "executionInfo": {
     "elapsed": 15586,
     "status": "ok",
     "timestamp": 1648976385078,
     "user": {
      "displayName": "Tatsuki Okada",
      "userId": "12310138447043973112"
     },
     "user_tz": -540
    },
    "id": "xnSt5j0wmo3G",
    "outputId": "e3073efe-9bb6-4734-9d9d-803bad6b22e1"
   },
   "outputs": [],
   "source": [
    "from google.colab import drive\n",
    "drive.mount('/content/drive')"
   ]
  },
  {
   "cell_type": "code",
   "execution_count": null,
   "id": "wrAs4o7ZuK1Y",
   "metadata": {
    "id": "wrAs4o7ZuK1Y"
   },
   "outputs": [],
   "source": [
    "# スペースの修正、変数名修正"
   ]
  },
  {
   "cell_type": "markdown",
   "id": "9d2c9b2b-7fc7-4c2a-9966-ba37a99a0132",
   "metadata": {
    "id": "9d2c9b2b-7fc7-4c2a-9966-ba37a99a0132"
   },
   "source": [
    "# JSONデータの読み込みPermalink\n",
    "## Wikipedia記事のJSONファイルを読み込み，「イギリス」に関する記事本文を表示せよ．問題21-29では，ここで抽出した記事本文に対して実行せよ．"
   ]
  },
  {
   "cell_type": "code",
   "execution_count": null,
   "id": "f72e2775-7284-409f-8f32-c7b20938689e",
   "metadata": {
    "colab": {
     "base_uri": "https://localhost:8080/"
    },
    "executionInfo": {
     "elapsed": 386,
     "status": "ok",
     "timestamp": 1648976385453,
     "user": {
      "displayName": "Tatsuki Okada",
      "userId": "12310138447043973112"
     },
     "user_tz": -540
    },
    "id": "f72e2775-7284-409f-8f32-c7b20938689e",
    "outputId": "6e22acc9-a562-4c1b-d4d3-8c8513307777"
   },
   "outputs": [],
   "source": [
    "!wget https://nlp100.github.io/data/jawiki-country.json.gz"
   ]
  },
  {
   "cell_type": "code",
   "execution_count": null,
   "id": "1e4826e5-7e06-4bc6-99a4-45212b13cdab",
   "metadata": {
    "id": "1e4826e5-7e06-4bc6-99a4-45212b13cdab"
   },
   "outputs": [],
   "source": [
    "!gunzip ./jawiki-country.json.gz"
   ]
  },
  {
   "cell_type": "code",
   "execution_count": null,
   "id": "NE_DcZwPoI-x",
   "metadata": {
    "colab": {
     "base_uri": "https://localhost:8080/"
    },
    "executionInfo": {
     "elapsed": 823,
     "status": "ok",
     "timestamp": 1648976386645,
     "user": {
      "displayName": "Tatsuki Okada",
      "userId": "12310138447043973112"
     },
     "user_tz": -540
    },
    "id": "NE_DcZwPoI-x",
    "outputId": "74b60262-d9b7-4835-8cc9-2c515bf83ce7"
   },
   "outputs": [],
   "source": [
    "!head -1 ./jawiki-country.json"
   ]
  },
  {
   "cell_type": "code",
   "execution_count": null,
   "id": "tzLcsbimnZ7Z",
   "metadata": {
    "colab": {
     "base_uri": "https://localhost:8080/"
    },
    "executionInfo": {
     "elapsed": 67,
     "status": "ok",
     "timestamp": 1648976386646,
     "user": {
      "displayName": "Tatsuki Okada",
      "userId": "12310138447043973112"
     },
     "user_tz": -540
    },
    "id": "tzLcsbimnZ7Z",
    "outputId": "8908acfa-dfb0-4add-c4a6-d14126aaa8e3"
   },
   "outputs": [],
   "source": [
    "import json\n",
    "\n",
    "file_path = 'jawiki-country.json'\n",
    "with open(file_path, mode='r')as f:\n",
    "    for line in f:\n",
    "        line = json.loads(line)\n",
    "        if line['title'] == 'イギリス':\n",
    "            text = line['text']\n",
    "            break\n",
    "\n",
    "print(text)"
   ]
  },
  {
   "cell_type": "code",
   "execution_count": null,
   "id": "vRIQ3NMNrPks",
   "metadata": {
    "id": "vRIQ3NMNrPks"
   },
   "outputs": [],
   "source": [
    "# 参考 https://www.sejuku.net/blog/78985"
   ]
  },
  {
   "cell_type": "markdown",
   "id": "211fa485-23e7-41f3-8287-dc441b13ba12",
   "metadata": {
    "id": "211fa485-23e7-41f3-8287-dc441b13ba12"
   },
   "source": [
    "# カテゴリ名を含む行を抽出\n",
    "## 記事中でカテゴリ名を宣言している行を抽出せよ．"
   ]
  },
  {
   "cell_type": "code",
   "execution_count": null,
   "id": "e1726ba1-989e-4eb3-b318-8f3cd8834216",
   "metadata": {
    "colab": {
     "base_uri": "https://localhost:8080/"
    },
    "executionInfo": {
     "elapsed": 41,
     "status": "ok",
     "timestamp": 1648976386646,
     "user": {
      "displayName": "Tatsuki Okada",
      "userId": "12310138447043973112"
     },
     "user_tz": -540
    },
    "id": "e1726ba1-989e-4eb3-b318-8f3cd8834216",
    "outputId": "10142609-e55a-47d3-ba07-0eed1a9c6846"
   },
   "outputs": [],
   "source": [
    "import re\n",
    "\n",
    "pattern = r'^(.*\\[\\[Category:.*\\]\\].*)$'\n",
    "result = '\\n'.join(re.findall(pattern, text, re.MULTILINE))\n",
    "print(result)"
   ]
  },
  {
   "cell_type": "code",
   "execution_count": null,
   "id": "_1GlwbjwsEfY",
   "metadata": {
    "id": "_1GlwbjwsEfY"
   },
   "outputs": [],
   "source": [
    "# 参考 https://docs.python.org/ja/3/library/re.html\n",
    "# https://www.youtube.com/watch?v=Nbdvm36Cau8&t=571s"
   ]
  },
  {
   "cell_type": "markdown",
   "id": "fd3b67d5-fc72-4f7c-9da6-4acb38066d93",
   "metadata": {
    "id": "fd3b67d5-fc72-4f7c-9da6-4acb38066d93"
   },
   "source": [
    "# カテゴリ名の抽出\n",
    "## 記事のカテゴリ名を（行単位ではなく名前で）抽出せよ"
   ]
  },
  {
   "cell_type": "code",
   "execution_count": null,
   "id": "ecb5fa2d-f93b-42d5-8420-0918f269b46c",
   "metadata": {
    "colab": {
     "base_uri": "https://localhost:8080/"
    },
    "executionInfo": {
     "elapsed": 18,
     "status": "ok",
     "timestamp": 1648976386647,
     "user": {
      "displayName": "Tatsuki Okada",
      "userId": "12310138447043973112"
     },
     "user_tz": -540
    },
    "id": "ecb5fa2d-f93b-42d5-8420-0918f269b46c",
    "outputId": "41cda3b4-2eb3-4c07-d749-079786ea63f0"
   },
   "outputs": [],
   "source": [
    "pattern = r'^.*\\[\\[Category:(.*?)(?:\\|.*)?\\]\\].*$'\n",
    "result = '\\n'.join(re.findall(pattern, text, re.MULTILINE))\n",
    "print(result)"
   ]
  },
  {
   "cell_type": "markdown",
   "id": "bb2636c9-cf60-428d-a616-7b0957c76598",
   "metadata": {
    "id": "bb2636c9-cf60-428d-a616-7b0957c76598",
    "tags": []
   },
   "source": [
    "# セクション構造\n",
    "## 記事中に含まれるセクション名とそのレベル（例えば”== セクション名 ==”なら1）を表示せよ．"
   ]
  },
  {
   "cell_type": "code",
   "execution_count": null,
   "id": "SuWVmUEHva7m",
   "metadata": {
    "colab": {
     "base_uri": "https://localhost:8080/"
    },
    "executionInfo": {
     "elapsed": 17,
     "status": "ok",
     "timestamp": 1648976386647,
     "user": {
      "displayName": "Tatsuki Okada",
      "userId": "12310138447043973112"
     },
     "user_tz": -540
    },
    "id": "SuWVmUEHva7m",
    "outputId": "b719de45-e95f-4aea-be73-8c7a465c87d3"
   },
   "outputs": [],
   "source": [
    "pattern = r'^(\\={2,})\\s*(.+?)\\s*(\\={2,}).*$'\n",
    "result = '\\n'.join(i[1] + ':' + str(len(i[0]) - 1) for i in re.findall(pattern, text, re.MULTILINE))\n",
    "print(result)"
   ]
  },
  {
   "cell_type": "markdown",
   "id": "3e59b843-ea6d-4c90-9834-ea2b984f9d4b",
   "metadata": {
    "id": "3e59b843-ea6d-4c90-9834-ea2b984f9d4b",
    "tags": []
   },
   "source": [
    "# ファイル参照の抽出 \n",
    "## 記事から参照されているメディアファイルをすべて抜き出せ"
   ]
  },
  {
   "cell_type": "code",
   "execution_count": null,
   "id": "d8f29f29-8377-4485-a908-600ccdf3f805",
   "metadata": {
    "colab": {
     "base_uri": "https://localhost:8080/"
    },
    "executionInfo": {
     "elapsed": 16,
     "status": "ok",
     "timestamp": 1648976386647,
     "user": {
      "displayName": "Tatsuki Okada",
      "userId": "12310138447043973112"
     },
     "user_tz": -540
    },
    "id": "d8f29f29-8377-4485-a908-600ccdf3f805",
    "outputId": "c2bd133b-a3a3-4b64-d7ff-479223b9c87b"
   },
   "outputs": [],
   "source": [
    "pattern = r'\\[\\[ファイル:(.+?)\\|'\n",
    "result = '\\n'.join(re.findall(pattern, text))\n",
    "print(result)"
   ]
  },
  {
   "cell_type": "markdown",
   "id": "14e98db8-37b3-49aa-9090-dc933f0677ae",
   "metadata": {
    "id": "14e98db8-37b3-49aa-9090-dc933f0677ae"
   },
   "source": [
    "#  テンプレートの抽出\n",
    "## 記事中に含まれる「基礎情報」テンプレートのフィールド名と値を抽出し，辞書オブジェクトとして格納せよ"
   ]
  },
  {
   "cell_type": "code",
   "execution_count": null,
   "id": "1d2acf02-f86f-4263-a167-95126bc136eb",
   "metadata": {
    "colab": {
     "base_uri": "https://localhost:8080/"
    },
    "executionInfo": {
     "elapsed": 15,
     "status": "ok",
     "timestamp": 1648976386647,
     "user": {
      "displayName": "Tatsuki Okada",
      "userId": "12310138447043973112"
     },
     "user_tz": -540
    },
    "id": "1d2acf02-f86f-4263-a167-95126bc136eb",
    "outputId": "b2cd8f2c-12e3-4a23-e324-1de89249d378"
   },
   "outputs": [],
   "source": [
    "#抽出\n",
    "pattern = r'^\\{\\{基礎情報.*?$(.*?)^\\}\\}'\n",
    "template = re.findall(pattern, text, re.MULTILINE + re.DOTALL)\n",
    "print(template)"
   ]
  },
  {
   "cell_type": "code",
   "execution_count": null,
   "id": "vOjw7hZ3zIT_",
   "metadata": {
    "colab": {
     "base_uri": "https://localhost:8080/"
    },
    "executionInfo": {
     "elapsed": 14,
     "status": "ok",
     "timestamp": 1648976386648,
     "user": {
      "displayName": "Tatsuki Okada",
      "userId": "12310138447043973112"
     },
     "user_tz": -540
    },
    "id": "vOjw7hZ3zIT_",
    "outputId": "268c1ff2-a730-4a5d-fbca-26e5dd3d314b"
   },
   "outputs": [],
   "source": [
    "#辞書に格納\n",
    "pattern = r'^\\|(.+?)\\s*=\\s*(.+?)(?:(?=\\n\\|)|(?=\\n$))'\n",
    "result = dict(re.findall(pattern, template[0], re.MULTILINE + re.DOTALL))\n",
    "for k, v in result.items():\n",
    "    print(k + ': ' + v)"
   ]
  },
  {
   "cell_type": "markdown",
   "id": "147c0684-bb8e-4d9d-b9ee-dc9e819990c3",
   "metadata": {
    "id": "147c0684-bb8e-4d9d-b9ee-dc9e819990c3"
   },
   "source": [
    "# 強調マークアップの除去 \n",
    "## 25の処理時に，テンプレートの値からMediaWikiの強調マークアップ（弱い強調，強調，強い強調のすべて）を除去してテキストに変換せよ（参考: マークアップ早見表）．"
   ]
  },
  {
   "cell_type": "code",
   "execution_count": null,
   "id": "cfcdec3a-4f08-416d-bb1e-8fc7a89ac090",
   "metadata": {
    "colab": {
     "base_uri": "https://localhost:8080/"
    },
    "executionInfo": {
     "elapsed": 12,
     "status": "ok",
     "timestamp": 1648976386648,
     "user": {
      "displayName": "Tatsuki Okada",
      "userId": "12310138447043973112"
     },
     "user_tz": -540
    },
    "id": "cfcdec3a-4f08-416d-bb1e-8fc7a89ac090",
    "outputId": "f23eb8dc-8fc0-4826-9cf2-8ef4f3fd1a87"
   },
   "outputs": [],
   "source": [
    "def remove_markup(text):\n",
    "    pattern = r'\\'{2,5}'\n",
    "    text = re.sub(pattern, '', text)\n",
    "\n",
    "    return text\n",
    "\n",
    "\n",
    "removed_result = {k : remove_markup(v) for k, v in result.items()}\n",
    "for k, v in removed_result.items():\n",
    "    print(k + ': ' + v)"
   ]
  },
  {
   "cell_type": "markdown",
   "id": "95a19a09-8670-4ee1-abfe-f8f20d3f4df2",
   "metadata": {
    "id": "95a19a09-8670-4ee1-abfe-f8f20d3f4df2"
   },
   "source": [
    "# 内部リンクの除去 \n",
    "## 26の処理に加えて，テンプレートの値からMediaWikiの内部リンクマークアップを除去し，テキストに変換せよ（参考: マークアップ早見表）．"
   ]
  },
  {
   "cell_type": "code",
   "execution_count": null,
   "id": "acc97567-e21b-4a1f-988b-24c6b60230b5",
   "metadata": {
    "colab": {
     "base_uri": "https://localhost:8080/"
    },
    "executionInfo": {
     "elapsed": 9,
     "status": "ok",
     "timestamp": 1648976386648,
     "user": {
      "displayName": "Tatsuki Okada",
      "userId": "12310138447043973112"
     },
     "user_tz": -540
    },
    "id": "acc97567-e21b-4a1f-988b-24c6b60230b5",
    "outputId": "a36fa1cf-2601-43c5-8e77-8be4fc718377"
   },
   "outputs": [],
   "source": [
    "def remove_markup(text):\n",
    "    pattern = r'\\'{2,5}'\n",
    "    text = re.sub(pattern, '', text)\n",
    "    \n",
    "    pattern = r'\\[\\[(?:[^|]*?\\|)??([^|]*?)\\]\\]'\n",
    "    text = re.sub(pattern, r'\\1', text)\n",
    "    \n",
    "    return text\n",
    "\n",
    "\n",
    "removed_result = {k: remove_markup(v) for k, v in result.items()}\n",
    "for k, v in removed_result.items():\n",
    "    print(k + ': ' + v)"
   ]
  },
  {
   "cell_type": "markdown",
   "id": "c779e4f2-9ff8-4f51-a133-fd12f3e2d6a6",
   "metadata": {
    "id": "c779e4f2-9ff8-4f51-a133-fd12f3e2d6a6"
   },
   "source": [
    "# MediaWikiマークアップの除去 \n",
    "## 27の処理に加えて，テンプレートの値からMediaWikiマークアップを可能な限り除去し，国の基本情報を整形せよ．"
   ]
  },
  {
   "cell_type": "code",
   "execution_count": null,
   "id": "c40af5a3-e640-4587-b9f1-b7e39e5c69cb",
   "metadata": {
    "colab": {
     "base_uri": "https://localhost:8080/"
    },
    "executionInfo": {
     "elapsed": 494,
     "status": "ok",
     "timestamp": 1648976387135,
     "user": {
      "displayName": "Tatsuki Okada",
      "userId": "12310138447043973112"
     },
     "user_tz": -540
    },
    "id": "c40af5a3-e640-4587-b9f1-b7e39e5c69cb",
    "outputId": "fb03a97b-f816-4be0-bff2-b1ffeb4f718a"
   },
   "outputs": [],
   "source": [
    "def remove_markup(text):\n",
    "    pattern = r'\\'{2,5}'\n",
    "    text = re.sub(pattern, '', text)\n",
    "\n",
    "    pattern = r'\\[\\[(?:[^|]*?\\|)??([^|]*?)\\]\\]'\n",
    "    text = re.sub(pattern, r'\\1', text)\n",
    "\n",
    "    pattern = r'https?://[\\w!?/\\+\\-_~=;\\.,*&@#$%\\(\\)\\'\\[\\]]+'\n",
    "    text = re.sub(pattern, '', text)\n",
    "\n",
    "    pattern = r'<.+?>' \n",
    "    text = re.sub(pattern, '', text)\n",
    "\n",
    "    pattern = r'\\{\\{(?:lang|仮リンク)(?:[^|]*?\\|)*?([^|]*?)\\}\\}' \n",
    "    text = re.sub(pattern, r'\\1', text)\n",
    "\n",
    "    return text\n",
    "\n",
    "\n",
    "removed_result = {k: remove_markup(v) for k, v in result.items()}\n",
    "for k, v in removed_result.items():\n",
    "    print(k + ': ' + v)"
   ]
  },
  {
   "cell_type": "markdown",
   "id": "4cb1336a-8341-423d-9290-9cce0454ccf5",
   "metadata": {
    "id": "4cb1336a-8341-423d-9290-9cce0454ccf5"
   },
   "source": [
    "# 国旗画像のURLを取得する\n",
    "## テンプレートの内容を利用し，国旗画像のURLを取得せよ．（ヒント: MediaWiki APIのimageinfoを呼び出して，ファイル参照をURLに変換すればよい）"
   ]
  },
  {
   "cell_type": "code",
   "execution_count": null,
   "id": "10b1be79-8931-47e1-a981-c8f4e03910e3",
   "metadata": {
    "colab": {
     "base_uri": "https://localhost:8080/"
    },
    "executionInfo": {
     "elapsed": 8,
     "status": "ok",
     "timestamp": 1648976387135,
     "user": {
      "displayName": "Tatsuki Okada",
      "userId": "12310138447043973112"
     },
     "user_tz": -540
    },
    "id": "10b1be79-8931-47e1-a981-c8f4e03910e3",
    "outputId": "683dad31-ff74-427b-b3eb-ce535717af86"
   },
   "outputs": [],
   "source": [
    "import requests\n",
    "\n",
    "def get_url(text):\n",
    "    url_file = text['国旗画像'].replace(' ', '_')\n",
    "    url = 'https://commons.wikimedia.org/w/api.php?action=query&titles=File:' + url_file + '&prop=imageinfo&iiprop=url&format=json'\n",
    "    data = requests.get(url)\n",
    "    return re.search(r'\"url\":\"(.+?)\"', data.text).group(1)\n",
    "\n",
    "\n",
    "print(get_url(result))"
   ]
  },
  {
   "cell_type": "code",
   "execution_count": null,
   "id": "dd86bcfc-49a1-4fd6-9fe1-d42f110128dd",
   "metadata": {
    "id": "dd86bcfc-49a1-4fd6-9fe1-d42f110128dd"
   },
   "outputs": [],
   "source": [
    "# 参考https://www.mediawiki.org/wiki/API:Main_page/ja"
   ]
  }
 ],
 "metadata": {
  "colab": {
   "collapsed_sections": [],
   "name": "NLP_100_3.ipynb",
   "provenance": []
  },
  "kernelspec": {
   "display_name": "Python 3 (ipykernel)",
   "language": "python",
   "name": "python3"
  },
  "language_info": {
   "codemirror_mode": {
    "name": "ipython",
    "version": 3
   },
   "file_extension": ".py",
   "mimetype": "text/x-python",
   "name": "python",
   "nbconvert_exporter": "python",
   "pygments_lexer": "ipython3",
   "version": "3.9.5"
  }
 },
 "nbformat": 4,
 "nbformat_minor": 5
}
