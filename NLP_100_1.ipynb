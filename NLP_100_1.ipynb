{
 "cells": [
  {
   "cell_type": "markdown",
   "id": "b0862f88-96bc-4827-906d-8449277c028c",
   "metadata": {
    "id": "b0862f88-96bc-4827-906d-8449277c028c"
   },
   "source": [
    "# 言語処理100本ノック_第1章: 準備運動  \n",
    "## https://nlp100.github.io/ja/ch01.html"
   ]
  },
  {
   "cell_type": "markdown",
   "id": "s-LqhSxWmXd-",
   "metadata": {
    "id": "s-LqhSxWmXd-"
   },
   "source": [
    "[![Open In Colab](https://colab.research.google.com/assets/colab-badge.svg)](https://colab.research.google.com/github/iamtatsuki05/NLP_100/blob/fix_all_merge/NLP_100_1.ipynb)"
   ]
  },
  {
   "cell_type": "code",
   "execution_count": null,
   "id": "yI9Iyy8cmPHM",
   "metadata": {
    "colab": {
     "base_uri": "https://localhost:8080/"
    },
    "executionInfo": {
     "elapsed": 218286,
     "status": "ok",
     "timestamp": 1648976337055,
     "user": {
      "displayName": "Tatsuki Okada",
      "userId": "12310138447043973112"
     },
     "user_tz": -540
    },
    "id": "yI9Iyy8cmPHM",
    "outputId": "87c1937b-0c1f-4f67-818f-eb478b66d290"
   },
   "outputs": [],
   "source": [
    "from google.colab import drive\n",
    "drive.mount('/content/drive')"
   ]
  },
  {
   "cell_type": "markdown",
   "id": "c521faee-efc6-4349-ab1f-2d4f298bce4a",
   "metadata": {
    "id": "c521faee-efc6-4349-ab1f-2d4f298bce4a"
   },
   "source": [
    "# 文字列の逆順  \n",
    "## 文字列”stressed”の文字を逆に（末尾から先頭に向かって）並べた文字列を得よ．  "
   ]
  },
  {
   "cell_type": "code",
   "execution_count": null,
   "id": "dc072582-201c-4cae-b65a-e57220ba0387",
   "metadata": {
    "colab": {
     "base_uri": "https://localhost:8080/",
     "height": 0
    },
    "executionInfo": {
     "elapsed": 20,
     "status": "ok",
     "timestamp": 1648976337056,
     "user": {
      "displayName": "Tatsuki Okada",
      "userId": "12310138447043973112"
     },
     "user_tz": -540
    },
    "id": "dc072582-201c-4cae-b65a-e57220ba0387",
    "outputId": "f34d83b1-8968-4ef0-aca1-3ac36f1e982a"
   },
   "outputs": [],
   "source": [
    "text = 'stressed'\n",
    "answer = text[::-1]\n",
    "answer"
   ]
  },
  {
   "cell_type": "markdown",
   "id": "87b3bc42-6017-484d-9ce7-ee8234afd718",
   "metadata": {
    "id": "87b3bc42-6017-484d-9ce7-ee8234afd718"
   },
   "source": [
    "# 「パタトクカシーー」 \n",
    "## 「パタトクカシーー」という文字列の1,3,5,7文字目を取り出して連結した文字列を得よ．"
   ]
  },
  {
   "cell_type": "code",
   "execution_count": null,
   "id": "5945bbcd-2302-4441-b20c-629b90da15c2",
   "metadata": {
    "colab": {
     "base_uri": "https://localhost:8080/",
     "height": 0
    },
    "executionInfo": {
     "elapsed": 19,
     "status": "ok",
     "timestamp": 1648976337056,
     "user": {
      "displayName": "Tatsuki Okada",
      "userId": "12310138447043973112"
     },
     "user_tz": -540
    },
    "id": "5945bbcd-2302-4441-b20c-629b90da15c2",
    "outputId": "ab7f0531-e4e2-40a0-90d8-8f34db1f2a62"
   },
   "outputs": [],
   "source": [
    "text1 = 'パタトクカシーー'\n",
    "answer = text1[0::2]\n",
    "answer"
   ]
  },
  {
   "cell_type": "markdown",
   "id": "5b3f6844-b891-4261-90ec-78e6ad8e72ff",
   "metadata": {
    "id": "5b3f6844-b891-4261-90ec-78e6ad8e72ff"
   },
   "source": [
    "# 「パトカー」＋「タクシー」＝「パタトクカシーー」\n",
    "## 「パトカー」＋「タクシー」の文字を先頭から交互に連結して文字列「パタトクカシーー」を得よ．"
   ]
  },
  {
   "cell_type": "code",
   "execution_count": null,
   "id": "d2cf3c09-628a-4374-8975-18058298d874",
   "metadata": {
    "colab": {
     "base_uri": "https://localhost:8080/",
     "height": 0
    },
    "executionInfo": {
     "elapsed": 19,
     "status": "ok",
     "timestamp": 1648976337057,
     "user": {
      "displayName": "Tatsuki Okada",
      "userId": "12310138447043973112"
     },
     "user_tz": -540
    },
    "id": "d2cf3c09-628a-4374-8975-18058298d874",
    "outputId": "e3124b88-c2e7-4d0a-d7c5-a824e63b25a6"
   },
   "outputs": [],
   "source": [
    "text1 = 'パトカー'\n",
    "text2 = 'タクシー'\n",
    "answer = ''.join([i+j for i, j in zip(text1, text2)])\n",
    "answer"
   ]
  },
  {
   "cell_type": "code",
   "execution_count": null,
   "id": "b9f2c2e0-1a6b-4cb7-8a16-f4ed460a85ed",
   "metadata": {
    "executionInfo": {
     "elapsed": 18,
     "status": "ok",
     "timestamp": 1648976337057,
     "user": {
      "displayName": "Tatsuki Okada",
      "userId": "12310138447043973112"
     },
     "user_tz": -540
    },
    "id": "b9f2c2e0-1a6b-4cb7-8a16-f4ed460a85ed"
   },
   "outputs": [],
   "source": [
    "# 参考 https://murashun.jp/article/programming/python/python-list-join.html"
   ]
  },
  {
   "cell_type": "markdown",
   "id": "9037b01b-d6b4-41cb-b751-59b4a516061f",
   "metadata": {
    "id": "9037b01b-d6b4-41cb-b751-59b4a516061f"
   },
   "source": [
    "# 円周率\n",
    "## “Now I need a drink, alcoholic of course, after the heavy lectures involving quantum mechanics.”という文を単語に分解し，各単語の（アルファベットの）文字数を先頭から出現順に並べたリストを作成せよ．"
   ]
  },
  {
   "cell_type": "code",
   "execution_count": null,
   "id": "0c7a653c-399a-4a95-80bd-b19b3c55f619",
   "metadata": {
    "colab": {
     "base_uri": "https://localhost:8080/"
    },
    "executionInfo": {
     "elapsed": 17,
     "status": "ok",
     "timestamp": 1648976337057,
     "user": {
      "displayName": "Tatsuki Okada",
      "userId": "12310138447043973112"
     },
     "user_tz": -540
    },
    "id": "0c7a653c-399a-4a95-80bd-b19b3c55f619",
    "outputId": "bc4a62bb-c80d-491f-d9d8-d7d10f7d08aa"
   },
   "outputs": [],
   "source": [
    "text = 'Now I need a drink, alcoholic of course, after the heavy lectures involving quantum mechanics.'\n",
    "word_list = text.replace(',','').replace('.','').split(' ')\n",
    "length_list=[]\n",
    "\n",
    "for word in word_list:\n",
    "    length_list.append(len(word))\n",
    "\n",
    "length_list"
   ]
  },
  {
   "cell_type": "markdown",
   "id": "57ec8a38-0516-4e59-9eb6-3513a1d8fd8d",
   "metadata": {
    "id": "57ec8a38-0516-4e59-9eb6-3513a1d8fd8d"
   },
   "source": [
    "# 元素記号Permalink\n",
    "## “Hi He Lied Because Boron Could Not Oxidize Fluorine. New Nations Might Also Sign Peace Security Clause. Arthur King Can.”という文を単語に分解し，1, 5, 6, 7, 8, 9, 15, 16, 19番目の単語は先頭の1文字，それ以外の単語は先頭の2文字を取り出し，取り出した文字列から単語の位置（先頭から何番目の単語か）への連想配列（辞書型もしくはマップ型）を作成せよ"
   ]
  },
  {
   "cell_type": "code",
   "execution_count": null,
   "id": "6b4b7ba3-9434-4a11-8c58-c9fdf313ec92",
   "metadata": {
    "colab": {
     "base_uri": "https://localhost:8080/"
    },
    "executionInfo": {
     "elapsed": 17,
     "status": "ok",
     "timestamp": 1648976337058,
     "user": {
      "displayName": "Tatsuki Okada",
      "userId": "12310138447043973112"
     },
     "user_tz": -540
    },
    "id": "6b4b7ba3-9434-4a11-8c58-c9fdf313ec92",
    "outputId": "9a92f78d-4bcc-4637-88a8-d1d5e3d5406a"
   },
   "outputs": [],
   "source": [
    "text = 'Hi He Lied Because Boron Could Not Oxidize Fluorine. New Nations Might Also Sign Peace Security Clause. Arthur King Can.'\n",
    "word_list = text.replace(',','').replace('.','').split(' ')\n",
    "{idx + 1 : word[0] if idx + 1 in [1, 5, 6, 7, 8, 9, 15, 16, 19] else word[0:2] for idx, word in enumerate(word_list)}"
   ]
  },
  {
   "cell_type": "code",
   "execution_count": null,
   "id": "e0c9a7a0-4230-4cef-b9f9-b943a141c9ea",
   "metadata": {
    "executionInfo": {
     "elapsed": 16,
     "status": "ok",
     "timestamp": 1648976337058,
     "user": {
      "displayName": "Tatsuki Okada",
      "userId": "12310138447043973112"
     },
     "user_tz": -540
    },
    "id": "e0c9a7a0-4230-4cef-b9f9-b943a141c9ea"
   },
   "outputs": [],
   "source": [
    "# 参考 https://note.nkmk.me/python-enumerate-start/"
   ]
  },
  {
   "cell_type": "markdown",
   "id": "b18097aa-aa09-42fe-bfeb-1201e92c429e",
   "metadata": {
    "id": "b18097aa-aa09-42fe-bfeb-1201e92c429e"
   },
   "source": [
    "# n-gramPermalink\n",
    "## 与えられたシーケンス（文字列やリストなど）からn-gramを作る関数を作成せよ．この関数を用い，”I am an NLPer”という文から単語bi-gram，文字bi-gramを得よ．"
   ]
  },
  {
   "cell_type": "code",
   "execution_count": null,
   "id": "02074ddf-e497-4d95-ac2e-a62eeba4e2b1",
   "metadata": {
    "colab": {
     "base_uri": "https://localhost:8080/"
    },
    "executionInfo": {
     "elapsed": 16,
     "status": "ok",
     "timestamp": 1648976337058,
     "user": {
      "displayName": "Tatsuki Okada",
      "userId": "12310138447043973112"
     },
     "user_tz": -540
    },
    "id": "02074ddf-e497-4d95-ac2e-a62eeba4e2b1",
    "outputId": "142069fa-27f8-4638-d673-55b7691008cd"
   },
   "outputs": [],
   "source": [
    "def n_gram(text, n):\n",
    "    return [text [idx : idx+n] for idx in range(len(text) - n + 1)]\n",
    "\n",
    "text = 'I am an NLPer'\n",
    "split_count = 2\n",
    "\n",
    "# 文字単位\n",
    "print('文字単位 : ', n_gram(text, split_count))\n",
    "# 単語単位\n",
    "words = text.split(' ')\n",
    "print('単語単位 : ', n_gram(words, split_count))"
   ]
  },
  {
   "cell_type": "code",
   "execution_count": null,
   "id": "bcebb96a-2a7c-42c4-9703-52cd85b56fab",
   "metadata": {
    "executionInfo": {
     "elapsed": 15,
     "status": "ok",
     "timestamp": 1648976337058,
     "user": {
      "displayName": "Tatsuki Okada",
      "userId": "12310138447043973112"
     },
     "user_tz": -540
    },
    "id": "bcebb96a-2a7c-42c4-9703-52cd85b56fab"
   },
   "outputs": [],
   "source": [
    "# 参考 https://qiita.com/kazmaw/items/4df328cba6429ec210fb"
   ]
  },
  {
   "cell_type": "markdown",
   "id": "87675c76-4d92-428e-ba82-2d6d2465debf",
   "metadata": {
    "id": "87675c76-4d92-428e-ba82-2d6d2465debf"
   },
   "source": [
    "# 集合\n",
    "# “paraparaparadise”と”paragraph”に含まれる文字bi-gramの集合を，それぞれ, XとYとして求め，XとYの和集合，積集合，，差集合を求めよ．さらに，’se’というbi-gramがXおよびYに含まれるかどうかを調べよ"
   ]
  },
  {
   "cell_type": "code",
   "execution_count": null,
   "id": "1e9e223c-1305-4dfb-ba03-4c61e7c9e721",
   "metadata": {
    "colab": {
     "base_uri": "https://localhost:8080/"
    },
    "executionInfo": {
     "elapsed": 15,
     "status": "ok",
     "timestamp": 1648976337059,
     "user": {
      "displayName": "Tatsuki Okada",
      "userId": "12310138447043973112"
     },
     "user_tz": -540
    },
    "id": "1e9e223c-1305-4dfb-ba03-4c61e7c9e721",
    "outputId": "2eaf0256-6a85-4abc-aea8-9f0843f04d90"
   },
   "outputs": [],
   "source": [
    "x = set(n_gram('paraparaparadise', 2))\n",
    "y = set(n_gram('paragraph', 2))\n",
    "\n",
    "print('和集合: ', x | y)\n",
    "print('積集合: ', x & y)\n",
    "print('差集合: ', x - y)\n",
    "print()\n",
    "\n",
    "print('’se’というbi-gramがXおよびYに含まれるか')\n",
    "print('X: ', 'se' in x)\n",
    "print('Y: ', 'se' in y)"
   ]
  },
  {
   "cell_type": "code",
   "execution_count": null,
   "id": "f1c2e816-21fd-4def-9a84-32163454e410",
   "metadata": {
    "executionInfo": {
     "elapsed": 14,
     "status": "ok",
     "timestamp": 1648976337059,
     "user": {
      "displayName": "Tatsuki Okada",
      "userId": "12310138447043973112"
     },
     "user_tz": -540
    },
    "id": "f1c2e816-21fd-4def-9a84-32163454e410"
   },
   "outputs": [],
   "source": [
    "# 参考 https://note.nkmk.me/python-set/"
   ]
  },
  {
   "cell_type": "markdown",
   "id": "3a984c7f-fc94-4c22-822f-d1fc49550192",
   "metadata": {
    "id": "3a984c7f-fc94-4c22-822f-d1fc49550192"
   },
   "source": [
    "# テンプレートによる文生成\n",
    "## 引数x, y, zを受け取り「x時のyはz」という文字列を返す関数を実装せよ．さらに，x=12, y=”気温”, z=22.4として，実行結果を確認せよ"
   ]
  },
  {
   "cell_type": "code",
   "execution_count": null,
   "id": "3766c31b-8345-481d-a3f9-1e1b64e44f43",
   "metadata": {
    "colab": {
     "base_uri": "https://localhost:8080/"
    },
    "executionInfo": {
     "elapsed": 14,
     "status": "ok",
     "timestamp": 1648976337059,
     "user": {
      "displayName": "Tatsuki Okada",
      "userId": "12310138447043973112"
     },
     "user_tz": -540
    },
    "id": "3766c31b-8345-481d-a3f9-1e1b64e44f43",
    "outputId": "913d5456-93a6-4b93-8c80-ec66881d26a0"
   },
   "outputs": [],
   "source": [
    "def generate_template_str(hours, word, temperature):\n",
    "    print(f'{hours}時の{word}は{temperature}')\n",
    "\n",
    "\n",
    "generate_template_str(12 , '気温' , 22.4)"
   ]
  },
  {
   "cell_type": "markdown",
   "id": "ab6b42a1-6537-4877-a979-7f920b837c3c",
   "metadata": {
    "id": "ab6b42a1-6537-4877-a979-7f920b837c3c"
   },
   "source": [
    "# 暗号文\n",
    "## 与えられた文字列の各文字を，以下の仕様で変換する関数cipherを実装せよ．\n",
    "###  英小文字ならば(219 - 文字コード)の文字に置換\n",
    "###  その他の文字はそのまま出力\n",
    "### この関数を用い，英語のメッセージを暗号化・復号化せよ．"
   ]
  },
  {
   "cell_type": "code",
   "execution_count": null,
   "id": "f586899a-ac3a-4fef-8562-97a3c90f4c1a",
   "metadata": {
    "colab": {
     "base_uri": "https://localhost:8080/"
    },
    "executionInfo": {
     "elapsed": 14,
     "status": "ok",
     "timestamp": 1648976337060,
     "user": {
      "displayName": "Tatsuki Okada",
      "userId": "12310138447043973112"
     },
     "user_tz": -540
    },
    "id": "f586899a-ac3a-4fef-8562-97a3c90f4c1a",
    "outputId": "6757c748-21f2-4881-ca1e-aef64e713299"
   },
   "outputs": [],
   "source": [
    "import re\n",
    "\n",
    "\n",
    "def convert_str_cipher(word):\n",
    "    char_list = [chr(219 - ord(idx)) if idx.islower() else idx for idx in word]\n",
    "    return ''.join(char_list)\n",
    "\n",
    "\n",
    "text = 'Apple123'\n",
    "#暗号\n",
    "encoded_text = convert_str_cipher(text)\n",
    "print(encoded_text)\n",
    "#複号\n",
    "print(convert_str_cipher(encoded_text))"
   ]
  },
  {
   "cell_type": "code",
   "execution_count": null,
   "id": "2472479d-2992-455d-a9be-7b6f8e1c4b2a",
   "metadata": {
    "executionInfo": {
     "elapsed": 13,
     "status": "ok",
     "timestamp": 1648976337060,
     "user": {
      "displayName": "Tatsuki Okada",
      "userId": "12310138447043973112"
     },
     "user_tz": -540
    },
    "id": "2472479d-2992-455d-a9be-7b6f8e1c4b2a"
   },
   "outputs": [],
   "source": [
    "# 参考 https://hibiki-press.tech/python/isupper-islower/3728\n",
    "# https://024minion.hatenablog.jp/entry/2017/05/11/230517"
   ]
  },
  {
   "cell_type": "markdown",
   "id": "eab61315-4214-4470-a889-841d42dd4017",
   "metadata": {
    "id": "eab61315-4214-4470-a889-841d42dd4017",
    "tags": []
   },
   "source": [
    "# TypoglycemiaPermalink\n",
    "## スペースで区切られた単語列に対して，各単語の先頭と末尾の文字は残し，それ以外の文字の順序をランダムに並び替えるプログラムを作成せよ．ただし，長さが４以下の単語は並び替えないこととする．適当な英語の文（例えば”I couldn’t believe that I could actually understand what I was reading : the phenomenal power of the human mind .”）を与え，その実行結果を確認せよ．"
   ]
  },
  {
   "cell_type": "code",
   "execution_count": null,
   "id": "85bf3063-8d8e-4c19-beab-5548644e3e38",
   "metadata": {
    "colab": {
     "base_uri": "https://localhost:8080/",
     "height": 0
    },
    "executionInfo": {
     "elapsed": 14,
     "status": "ok",
     "timestamp": 1648976337061,
     "user": {
      "displayName": "Tatsuki Okada",
      "userId": "12310138447043973112"
     },
     "user_tz": -540
    },
    "id": "85bf3063-8d8e-4c19-beab-5548644e3e38",
    "outputId": "4e4f432c-915b-4d9c-904c-c7c4a97240b8"
   },
   "outputs": [],
   "source": [
    "import random\n",
    "\n",
    "\n",
    "def shuffle(words):\n",
    "    result = []\n",
    "    for word in words.split():\n",
    "        if len(word) > 4:\n",
    "            word = word[:1] + ''.join(random.sample(word[1:-1] , len(word) - 2)) + word[-1:]\n",
    "        result.append(word)\n",
    "    return ' '.join(result)\n",
    "\n",
    "\n",
    "text = 'I couldn’t believe that I could actually understand what I was reading : the phenomenal power of the human mind .'\n",
    "shuffle(text)"
   ]
  }
 ],
 "metadata": {
  "colab": {
   "collapsed_sections": [],
   "name": "NLP_100_1.ipynb",
   "provenance": []
  },
  "kernelspec": {
   "display_name": "Python 3 (ipykernel)",
   "language": "python",
   "name": "python3"
  },
  "language_info": {
   "codemirror_mode": {
    "name": "ipython",
    "version": 3
   },
   "file_extension": ".py",
   "mimetype": "text/x-python",
   "name": "python",
   "nbconvert_exporter": "python",
   "pygments_lexer": "ipython3",
   "version": "3.9.5"
  }
 },
 "nbformat": 4,
 "nbformat_minor": 5
}
